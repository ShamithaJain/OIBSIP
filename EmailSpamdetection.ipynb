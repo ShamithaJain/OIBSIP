{
 "cells": [
  {
   "cell_type": "markdown",
   "id": "e1dffdb7-24ed-4a38-b4c7-372b3cbee281",
   "metadata": {},
   "source": [
    "## Oasis Infobyte"
   ]
  },
  {
   "cell_type": "markdown",
   "id": "b116cc54-4f2b-4a81-8b01-537ab4ec8947",
   "metadata": {},
   "source": [
    "### Email Spam detection with Machine Learning"
   ]
  },
  {
   "cell_type": "markdown",
   "id": "8a82649a-4f21-48a8-9bd3-82b269e829b8",
   "metadata": {},
   "source": [
    "### Shamitha Jain"
   ]
  },
  {
   "cell_type": "code",
   "execution_count": 2,
   "id": "372e2118-bfa3-4d5a-91bf-9fe03fee851b",
   "metadata": {},
   "outputs": [
    {
     "name": "stderr",
     "output_type": "stream",
     "text": [
      "[nltk_data] Downloading package punkt to\n",
      "[nltk_data]     /home/1b636706-84f0-4a2f-9a33-\n",
      "[nltk_data]     2f717fd664c6/nltk_data...\n",
      "[nltk_data]   Unzipping tokenizers/punkt.zip.\n",
      "[nltk_data] Downloading package stopwords to\n",
      "[nltk_data]     /home/1b636706-84f0-4a2f-9a33-\n",
      "[nltk_data]     2f717fd664c6/nltk_data...\n",
      "[nltk_data]   Unzipping corpora/stopwords.zip.\n"
     ]
    },
    {
     "data": {
      "text/plain": [
       "True"
      ]
     },
     "execution_count": 2,
     "metadata": {},
     "output_type": "execute_result"
    }
   ],
   "source": [
    "import string\n",
    "import numpy as np\n",
    "import pandas as pd\n",
    "import matplotlib.pyplot as plt\n",
    "import seaborn as sns\n",
    "\n",
    "from sklearn.preprocessing import LabelEncoder\n",
    "from sklearn.feature_extraction.text import CountVectorizer, TfidfVectorizer\n",
    "from sklearn.model_selection import train_test_split\n",
    "from sklearn.naive_bayes import GaussianNB, MultinomialNB, BernoulliNB\n",
    "from sklearn.metrics import accuracy_score, confusion_matrix, precision_score, ConfusionMatrixDisplay\n",
    "\n",
    "import nltk\n",
    "from nltk.corpus import stopwords\n",
    "from nltk.stem.porter import PorterStemmer\n",
    "\n",
    "nltk.download('punkt')\n",
    "nltk.download('stopwords')"
   ]
  },
  {
   "cell_type": "markdown",
   "id": "a9c7cf25-42c7-4256-982c-bb51772d2b60",
   "metadata": {},
   "source": [
    "### Loading the Dataset"
   ]
  },
  {
   "cell_type": "code",
   "execution_count": 4,
   "id": "327af296-af27-49dd-87df-8e32f9c984f3",
   "metadata": {},
   "outputs": [
    {
     "data": {
      "text/html": [
       "<div>\n",
       "<style scoped>\n",
       "    .dataframe tbody tr th:only-of-type {\n",
       "        vertical-align: middle;\n",
       "    }\n",
       "\n",
       "    .dataframe tbody tr th {\n",
       "        vertical-align: top;\n",
       "    }\n",
       "\n",
       "    .dataframe thead th {\n",
       "        text-align: right;\n",
       "    }\n",
       "</style>\n",
       "<table border=\"1\" class=\"dataframe\">\n",
       "  <thead>\n",
       "    <tr style=\"text-align: right;\">\n",
       "      <th></th>\n",
       "      <th>v1</th>\n",
       "      <th>v2</th>\n",
       "      <th>Unnamed: 2</th>\n",
       "      <th>Unnamed: 3</th>\n",
       "      <th>Unnamed: 4</th>\n",
       "    </tr>\n",
       "  </thead>\n",
       "  <tbody>\n",
       "    <tr>\n",
       "      <th>0</th>\n",
       "      <td>ham</td>\n",
       "      <td>Go until jurong point, crazy.. Available only ...</td>\n",
       "      <td>NaN</td>\n",
       "      <td>NaN</td>\n",
       "      <td>NaN</td>\n",
       "    </tr>\n",
       "    <tr>\n",
       "      <th>1</th>\n",
       "      <td>ham</td>\n",
       "      <td>Ok lar... Joking wif u oni...</td>\n",
       "      <td>NaN</td>\n",
       "      <td>NaN</td>\n",
       "      <td>NaN</td>\n",
       "    </tr>\n",
       "    <tr>\n",
       "      <th>2</th>\n",
       "      <td>spam</td>\n",
       "      <td>Free entry in 2 a wkly comp to win FA Cup fina...</td>\n",
       "      <td>NaN</td>\n",
       "      <td>NaN</td>\n",
       "      <td>NaN</td>\n",
       "    </tr>\n",
       "    <tr>\n",
       "      <th>3</th>\n",
       "      <td>ham</td>\n",
       "      <td>U dun say so early hor... U c already then say...</td>\n",
       "      <td>NaN</td>\n",
       "      <td>NaN</td>\n",
       "      <td>NaN</td>\n",
       "    </tr>\n",
       "    <tr>\n",
       "      <th>4</th>\n",
       "      <td>ham</td>\n",
       "      <td>Nah I don't think he goes to usf, he lives aro...</td>\n",
       "      <td>NaN</td>\n",
       "      <td>NaN</td>\n",
       "      <td>NaN</td>\n",
       "    </tr>\n",
       "  </tbody>\n",
       "</table>\n",
       "</div>"
      ],
      "text/plain": [
       "     v1                                                 v2 Unnamed: 2  \\\n",
       "0   ham  Go until jurong point, crazy.. Available only ...        NaN   \n",
       "1   ham                      Ok lar... Joking wif u oni...        NaN   \n",
       "2  spam  Free entry in 2 a wkly comp to win FA Cup fina...        NaN   \n",
       "3   ham  U dun say so early hor... U c already then say...        NaN   \n",
       "4   ham  Nah I don't think he goes to usf, he lives aro...        NaN   \n",
       "\n",
       "  Unnamed: 3 Unnamed: 4  \n",
       "0        NaN        NaN  \n",
       "1        NaN        NaN  \n",
       "2        NaN        NaN  \n",
       "3        NaN        NaN  \n",
       "4        NaN        NaN  "
      ]
     },
     "execution_count": 4,
     "metadata": {},
     "output_type": "execute_result"
    }
   ],
   "source": [
    "df=pd.read_csv(\"spam.csv\", encoding=\"ISO-8859-1\")\n",
    "\n",
    "df.head()"
   ]
  },
  {
   "cell_type": "markdown",
   "id": "343da38b-dd32-4989-9c4f-3acb8ad1cc2f",
   "metadata": {},
   "source": [
    "## Shape of the data"
   ]
  },
  {
   "cell_type": "code",
   "execution_count": 6,
   "id": "ffbee999-7074-499e-87de-4d588db72f9f",
   "metadata": {},
   "outputs": [
    {
     "name": "stdout",
     "output_type": "stream",
     "text": [
      "\n",
      "No. of rows: 5572, No. of columns: 5 \n"
     ]
    }
   ],
   "source": [
    "rows, cols= df.shape \n",
    "print(f\"\"\"\n",
    "No. of rows: {rows}, No. of columns: {cols} \"\"\")"
   ]
  },
  {
   "cell_type": "markdown",
   "id": "5e1f234d-db76-4be3-97e2-861cabb515ad",
   "metadata": {},
   "source": [
    "### A brief about Dataset"
   ]
  },
  {
   "cell_type": "code",
   "execution_count": 7,
   "id": "de542688-ecc2-4779-9f57-cdfbefb15025",
   "metadata": {},
   "outputs": [
    {
     "name": "stdout",
     "output_type": "stream",
     "text": [
      "<class 'pandas.core.frame.DataFrame'>\n",
      "RangeIndex: 5572 entries, 0 to 5571\n",
      "Data columns (total 5 columns):\n",
      " #   Column      Non-Null Count  Dtype \n",
      "---  ------      --------------  ----- \n",
      " 0   v1          5572 non-null   object\n",
      " 1   v2          5572 non-null   object\n",
      " 2   Unnamed: 2  50 non-null     object\n",
      " 3   Unnamed: 3  12 non-null     object\n",
      " 4   Unnamed: 4  6 non-null      object\n",
      "dtypes: object(5)\n",
      "memory usage: 217.8+ KB\n"
     ]
    }
   ],
   "source": [
    "df.info()"
   ]
  },
  {
   "cell_type": "markdown",
   "id": "34409988-9881-49ce-aaee-e0296efc1860",
   "metadata": {},
   "source": [
    "### Percentage of null values in dataset"
   ]
  },
  {
   "cell_type": "code",
   "execution_count": 8,
   "id": "b1c30147-a56c-46e9-9fb8-399150fe51a5",
   "metadata": {},
   "outputs": [
    {
     "data": {
      "text/plain": [
       "v1             0.000000\n",
       "v2             0.000000\n",
       "Unnamed: 2    99.102656\n",
       "Unnamed: 3    99.784637\n",
       "Unnamed: 4    99.892319\n",
       "dtype: float64"
      ]
     },
     "execution_count": 8,
     "metadata": {},
     "output_type": "execute_result"
    }
   ],
   "source": [
    "(df.isnull().sum() / df.shape[0])*100"
   ]
  },
  {
   "cell_type": "markdown",
   "id": "a764bd3f-e643-444f-af77-00edf4b3844f",
   "metadata": {},
   "source": [
    "Need to remove following columns:\n",
    "-Unnamed 2\n",
    "-unnamed 3\n",
    "-unnamed 4"
   ]
  },
  {
   "cell_type": "markdown",
   "id": "e54e2009-d8a3-47c8-be45-6913ac35024b",
   "metadata": {},
   "source": [
    "### Duplicate rows in a dataset"
   ]
  },
  {
   "cell_type": "code",
   "execution_count": 9,
   "id": "55e55eb2-34a0-488c-b852-3cb4297e5716",
   "metadata": {},
   "outputs": [
    {
     "data": {
      "text/plain": [
       "403"
      ]
     },
     "execution_count": 9,
     "metadata": {},
     "output_type": "execute_result"
    }
   ],
   "source": [
    "df.duplicated(subset=[\"v1\", \"v2\"]).sum()"
   ]
  },
  {
   "cell_type": "markdown",
   "id": "38e5bde4-05e4-4d6f-9377-015e5287b55f",
   "metadata": {},
   "source": [
    "## Data Cleaning"
   ]
  },
  {
   "cell_type": "markdown",
   "id": "1f5f419d-e9c9-47ca-a722-6cc4ed7ad3bf",
   "metadata": {},
   "source": [
    "### Drop last three columns"
   ]
  },
  {
   "cell_type": "code",
   "execution_count": 13,
   "id": "4a25765a-6723-44de-b7bc-e93f85d04024",
   "metadata": {},
   "outputs": [],
   "source": [
    "df.drop(columns=['Unnamed: 2', 'Unnamed: 3', 'Unnamed: 4'], inplace=True)\n"
   ]
  },
  {
   "cell_type": "markdown",
   "id": "0efaa5f9-fce9-4954-9f2f-a58e724f0746",
   "metadata": {},
   "source": [
    "### Renaming columns"
   ]
  },
  {
   "cell_type": "code",
   "execution_count": 16,
   "id": "49049286-bd90-4fc3-9ff8-4673e06e0abb",
   "metadata": {},
   "outputs": [],
   "source": [
    "df.rename({\"v1\": \"target\", \"v2\": \"text\"}, axis=1, inplace=True)\n"
   ]
  },
  {
   "cell_type": "markdown",
   "id": "59b0dda3-a520-476a-a841-daff019093b4",
   "metadata": {},
   "source": [
    "### Dropping all duplicated rows"
   ]
  },
  {
   "cell_type": "code",
   "execution_count": 17,
   "id": "15a25b3c-6989-41ac-8979-311504d67155",
   "metadata": {},
   "outputs": [],
   "source": [
    "df.drop_duplicates(inplace=True)\n"
   ]
  },
  {
   "cell_type": "markdown",
   "id": "58457a6a-09ed-4206-ab81-7516aa2bd2f4",
   "metadata": {},
   "source": [
    "### Label encode the target column"
   ]
  },
  {
   "cell_type": "code",
   "execution_count": 20,
   "id": "eabf127d-03a3-4db8-8b1a-b6e731f5a719",
   "metadata": {},
   "outputs": [],
   "source": [
    "label_encoder = LabelEncoder()\n",
    "df['target']=label_encoder.fit_transform(df['target'])\n"
   ]
  },
  {
   "cell_type": "markdown",
   "id": "928f2862-2cbd-4ab6-b53b-89696a8f09a5",
   "metadata": {},
   "source": [
    "## A look on Cleaned Data"
   ]
  },
  {
   "cell_type": "code",
   "execution_count": 21,
   "id": "8f4b72de-bbf6-41a8-b35c-ac3937121efb",
   "metadata": {},
   "outputs": [
    {
     "name": "stdout",
     "output_type": "stream",
     "text": [
      "\n",
      "No. of rows: 5169, No. of columns: 2 \n"
     ]
    }
   ],
   "source": [
    "rows, cols= df.shape \n",
    "print(f\"\"\"\n",
    "No. of rows: {rows}, No. of columns: {cols} \"\"\")"
   ]
  },
  {
   "cell_type": "markdown",
   "id": "0618538a-271c-49e5-85d3-e9155c9e7184",
   "metadata": {},
   "source": [
    "### No. of null rows"
   ]
  },
  {
   "cell_type": "code",
   "execution_count": 22,
   "id": "30dba426-56ce-4d25-b4cf-293befffcb29",
   "metadata": {},
   "outputs": [
    {
     "data": {
      "text/plain": [
       "target    0\n",
       "text      0\n",
       "dtype: int64"
      ]
     },
     "execution_count": 22,
     "metadata": {},
     "output_type": "execute_result"
    }
   ],
   "source": [
    "df.isnull().sum()"
   ]
  },
  {
   "cell_type": "markdown",
   "id": "69172d15-88d9-43b4-bdc9-f53800372b41",
   "metadata": {},
   "source": [
    "### No. of duplicated rows"
   ]
  },
  {
   "cell_type": "code",
   "execution_count": 23,
   "id": "8ba976f5-2e98-4d07-b9d2-21c3e0c725ea",
   "metadata": {},
   "outputs": [
    {
     "data": {
      "text/plain": [
       "0"
      ]
     },
     "execution_count": 23,
     "metadata": {},
     "output_type": "execute_result"
    }
   ],
   "source": [
    "df.duplicated().sum()"
   ]
  },
  {
   "cell_type": "code",
   "execution_count": 24,
   "id": "8fb536b6-1787-4a14-96b7-4dc0ab5feb49",
   "metadata": {},
   "outputs": [
    {
     "data": {
      "text/html": [
       "<div>\n",
       "<style scoped>\n",
       "    .dataframe tbody tr th:only-of-type {\n",
       "        vertical-align: middle;\n",
       "    }\n",
       "\n",
       "    .dataframe tbody tr th {\n",
       "        vertical-align: top;\n",
       "    }\n",
       "\n",
       "    .dataframe thead th {\n",
       "        text-align: right;\n",
       "    }\n",
       "</style>\n",
       "<table border=\"1\" class=\"dataframe\">\n",
       "  <thead>\n",
       "    <tr style=\"text-align: right;\">\n",
       "      <th></th>\n",
       "      <th>target</th>\n",
       "      <th>text</th>\n",
       "    </tr>\n",
       "  </thead>\n",
       "  <tbody>\n",
       "    <tr>\n",
       "      <th>0</th>\n",
       "      <td>0</td>\n",
       "      <td>Go until jurong point, crazy.. Available only ...</td>\n",
       "    </tr>\n",
       "    <tr>\n",
       "      <th>1</th>\n",
       "      <td>0</td>\n",
       "      <td>Ok lar... Joking wif u oni...</td>\n",
       "    </tr>\n",
       "    <tr>\n",
       "      <th>2</th>\n",
       "      <td>1</td>\n",
       "      <td>Free entry in 2 a wkly comp to win FA Cup fina...</td>\n",
       "    </tr>\n",
       "    <tr>\n",
       "      <th>3</th>\n",
       "      <td>0</td>\n",
       "      <td>U dun say so early hor... U c already then say...</td>\n",
       "    </tr>\n",
       "    <tr>\n",
       "      <th>4</th>\n",
       "      <td>0</td>\n",
       "      <td>Nah I don't think he goes to usf, he lives aro...</td>\n",
       "    </tr>\n",
       "  </tbody>\n",
       "</table>\n",
       "</div>"
      ],
      "text/plain": [
       "   target                                               text\n",
       "0       0  Go until jurong point, crazy.. Available only ...\n",
       "1       0                      Ok lar... Joking wif u oni...\n",
       "2       1  Free entry in 2 a wkly comp to win FA Cup fina...\n",
       "3       0  U dun say so early hor... U c already then say...\n",
       "4       0  Nah I don't think he goes to usf, he lives aro..."
      ]
     },
     "execution_count": 24,
     "metadata": {},
     "output_type": "execute_result"
    }
   ],
   "source": [
    "df.head()"
   ]
  },
  {
   "cell_type": "markdown",
   "id": "c120cee1-a3da-4340-9ba1-6cd3fbeaece5",
   "metadata": {},
   "source": [
    "### Exploratory Analysis"
   ]
  },
  {
   "cell_type": "markdown",
   "id": "b97afe05-2f37-49e6-b12a-eb4567dfc9e6",
   "metadata": {},
   "source": [
    "### Ratio of ham and spam messages in dataset"
   ]
  },
  {
   "cell_type": "code",
   "execution_count": 25,
   "id": "bad395d5-2968-40ee-9839-53849aaa0ddb",
   "metadata": {},
   "outputs": [
    {
     "data": {
      "text/plain": [
       "target\n",
       "0    4516\n",
       "1     653\n",
       "Name: count, dtype: int64"
      ]
     },
     "execution_count": 25,
     "metadata": {},
     "output_type": "execute_result"
    }
   ],
   "source": [
    "df['target'].value_counts()"
   ]
  },
  {
   "cell_type": "code",
   "execution_count": 29,
   "id": "06e13617-f685-4eac-8a89-3966dcd89dee",
   "metadata": {},
   "outputs": [
    {
     "data": {
      "image/png": "[encoded data removed]",
      "text/plain": [
       "<Figure size 640x480 with 1 Axes>"
      ]
     },
     "metadata": {},
     "output_type": "display_data"
    }
   ],
   "source": [
    "import matplotlib.pyplot as plt\n",
    "\n",
    "plt.pie(\n",
    "    df['target'].value_counts(),\n",
    "    labels=['ham', 'spam'],\n",
    "    autopct=\"%0.2f%%\",\n",
    "    shadow=True,\n",
    "    explode=[0, 0.2]\n",
    ")\n",
    "plt.show()\n"
   ]
  },
  {
   "cell_type": "markdown",
   "id": "de3b1f73-429f-43c8-829e-52a1ad75053a",
   "metadata": {},
   "source": [
    "### No. of characters in each row"
   ]
  },
  {
   "cell_type": "code",
   "execution_count": 30,
   "id": "ac958675-8a82-4880-8d2e-98759c9ba32b",
   "metadata": {},
   "outputs": [],
   "source": [
    "df['num_characters'] = df['text'].apply(len)\n"
   ]
  },
  {
   "cell_type": "markdown",
   "id": "2059289d-2c18-47f7-ab46-8014f38694a3",
   "metadata": {},
   "source": [
    "### No. of words in each row"
   ]
  },
  {
   "cell_type": "code",
   "execution_count": 32,
   "id": "ed5b89cb-ec80-41ba-9518-75d88265901c",
   "metadata": {},
   "outputs": [],
   "source": [
    "\n",
    "df['num_words'] = df['text'].apply(lambda x: len(nltk.word_tokenize(x)))\n"
   ]
  },
  {
   "cell_type": "markdown",
   "id": "c28c780f-6b25-4992-86f8-394eb1b44894",
   "metadata": {},
   "source": [
    "### No. of sentences in each row"
   ]
  },
  {
   "cell_type": "code",
   "execution_count": 33,
   "id": "df26cfd8-2f65-4dda-ac91-3be1e4ac25a3",
   "metadata": {},
   "outputs": [],
   "source": [
    "df['num_sentences'] = df['text'].apply(lambda x: len(nltk.sent_tokenize(x)))\n"
   ]
  },
  {
   "cell_type": "code",
   "execution_count": 34,
   "id": "bd3e61b8-2f0c-448a-b5fa-7c51dd6476c0",
   "metadata": {},
   "outputs": [
    {
     "data": {
      "text/html": [
       "<div>\n",
       "<style scoped>\n",
       "    .dataframe tbody tr th:only-of-type {\n",
       "        vertical-align: middle;\n",
       "    }\n",
       "\n",
       "    .dataframe tbody tr th {\n",
       "        vertical-align: top;\n",
       "    }\n",
       "\n",
       "    .dataframe thead th {\n",
       "        text-align: right;\n",
       "    }\n",
       "</style>\n",
       "<table border=\"1\" class=\"dataframe\">\n",
       "  <thead>\n",
       "    <tr style=\"text-align: right;\">\n",
       "      <th></th>\n",
       "      <th>target</th>\n",
       "      <th>text</th>\n",
       "      <th>num_characters</th>\n",
       "      <th>num_words</th>\n",
       "      <th>num_sentences</th>\n",
       "    </tr>\n",
       "  </thead>\n",
       "  <tbody>\n",
       "    <tr>\n",
       "      <th>0</th>\n",
       "      <td>0</td>\n",
       "      <td>Go until jurong point, crazy.. Available only ...</td>\n",
       "      <td>111</td>\n",
       "      <td>24</td>\n",
       "      <td>2</td>\n",
       "    </tr>\n",
       "    <tr>\n",
       "      <th>1</th>\n",
       "      <td>0</td>\n",
       "      <td>Ok lar... Joking wif u oni...</td>\n",
       "      <td>29</td>\n",
       "      <td>8</td>\n",
       "      <td>2</td>\n",
       "    </tr>\n",
       "    <tr>\n",
       "      <th>2</th>\n",
       "      <td>1</td>\n",
       "      <td>Free entry in 2 a wkly comp to win FA Cup fina...</td>\n",
       "      <td>155</td>\n",
       "      <td>37</td>\n",
       "      <td>2</td>\n",
       "    </tr>\n",
       "    <tr>\n",
       "      <th>3</th>\n",
       "      <td>0</td>\n",
       "      <td>U dun say so early hor... U c already then say...</td>\n",
       "      <td>49</td>\n",
       "      <td>13</td>\n",
       "      <td>1</td>\n",
       "    </tr>\n",
       "    <tr>\n",
       "      <th>4</th>\n",
       "      <td>0</td>\n",
       "      <td>Nah I don't think he goes to usf, he lives aro...</td>\n",
       "      <td>61</td>\n",
       "      <td>15</td>\n",
       "      <td>1</td>\n",
       "    </tr>\n",
       "  </tbody>\n",
       "</table>\n",
       "</div>"
      ],
      "text/plain": [
       "   target                                               text  num_characters  \\\n",
       "0       0  Go until jurong point, crazy.. Available only ...             111   \n",
       "1       0                      Ok lar... Joking wif u oni...              29   \n",
       "2       1  Free entry in 2 a wkly comp to win FA Cup fina...             155   \n",
       "3       0  U dun say so early hor... U c already then say...              49   \n",
       "4       0  Nah I don't think he goes to usf, he lives aro...              61   \n",
       "\n",
       "   num_words  num_sentences  \n",
       "0         24              2  \n",
       "1          8              2  \n",
       "2         37              2  \n",
       "3         13              1  \n",
       "4         15              1  "
      ]
     },
     "execution_count": 34,
     "metadata": {},
     "output_type": "execute_result"
    }
   ],
   "source": [
    "df.head()"
   ]
  },
  {
   "cell_type": "code",
   "execution_count": 37,
   "id": "74e264e4-0223-474f-91cb-69419b7eaf7a",
   "metadata": {},
   "outputs": [
    {
     "name": "stderr",
     "output_type": "stream",
     "text": [
      "/opt/conda/envs/anaconda-2024.02-py310/lib/python3.10/site-packages/seaborn/_oldcore.py:1119: FutureWarning: use_inf_as_na option is deprecated and will be removed in a future version. Convert inf values to NaN before operating instead.\n",
      "  with pd.option_context('mode.use_inf_as_na', True):\n"
     ]
    },
    {
     "data": {
      "image/png": "[encoded data removed]",
      "text/plain": [
       "<Figure size 808.875x500 with 1 Axes>"
      ]
     },
     "metadata": {},
     "output_type": "display_data"
    }
   ],
   "source": [
    "\n",
    "sns.displot(\n",
    "    data=df,\n",
    "    hue=\"target\",\n",
    "    x=\"num_characters\",\n",
    "    kind=\"hist\",\n",
    "    fill=True,\n",
    "    height=5, aspect=1.5\n",
    ")\n",
    "\n",
    "plt.xlim(0, 200)  # set x-axis limit\n",
    "plt.show()\n"
   ]
  },
  {
   "cell_type": "code",
   "execution_count": 39,
   "id": "2c9dfe93-7cb0-45b4-b116-38447b1afb95",
   "metadata": {},
   "outputs": [
    {
     "data": {
      "text/plain": [
       "<Axes: >"
      ]
     },
     "execution_count": 39,
     "metadata": {},
     "output_type": "execute_result"
    },
    {
     "data": {
      "image/png": "[encoded data removed]",
      "text/plain": [
       "<Figure size 640x480 with 2 Axes>"
      ]
     },
     "metadata": {},
     "output_type": "display_data"
    }
   ],
   "source": [
    "sns.heatmap(df.select_dtypes(include=['number']).corr(), annot=True)\n"
   ]
  },
  {
   "cell_type": "markdown",
   "id": "36c403e4-c4bf-4cc0-8fbf-2371f1b76b70",
   "metadata": {},
   "source": [
    "## Data Preprocessing"
   ]
  },
  {
   "cell_type": "markdown",
   "id": "f24bc7fd-d344-49c6-afd3-0aa6c123947c",
   "metadata": {},
   "source": [
    "### Convert to lowercase"
   ]
  },
  {
   "cell_type": "code",
   "execution_count": null,
   "id": "0e77be13-65f0-499a-b8e4-9aec8882bf98",
   "metadata": {},
   "outputs": [],
   "source": [
    "df[\"text\"] = df[\"text\"].apply(lambda x: x.lower())\n",
    "df[\"text\"].head(3)"
   ]
  },
  {
   "cell_type": "markdown",
   "id": "dfde0d8b-a956-44ba-b2ab-465bbf7899f6",
   "metadata": {},
   "source": [
    "### Perform tokenization"
   ]
  },
  {
   "cell_type": "code",
   "execution_count": 41,
   "id": "e959e3c2-e3d2-42e6-8802-3eedd17b4540",
   "metadata": {},
   "outputs": [],
   "source": [
    "df[\"transformed_text\"] = df[\"text\"].apply(lambda x: nltk.word_tokenize(x))\n"
   ]
  },
  {
   "cell_type": "markdown",
   "id": "f1f48c5d-6e42-4a6e-9695-967c97fa21ae",
   "metadata": {},
   "source": [
    "### Remove all non alphanumeric words"
   ]
  },
  {
   "cell_type": "code",
   "execution_count": 42,
   "id": "682a8112-8fa1-48d6-af5d-d4a08fa1d982",
   "metadata": {},
   "outputs": [],
   "source": [
    "def remove_non_alphanumeric(text_list):\n",
    "    clear_text_list = []\n",
    "    for word in text_list:\n",
    "        if word.isalnum():\n",
    "            clear_text_list.append(word)\n",
    "    return clear_text_list\n"
   ]
  },
  {
   "cell_type": "code",
   "execution_count": 43,
   "id": "20947e21-30ff-404a-a1f4-c73b9695702a",
   "metadata": {},
   "outputs": [],
   "source": [
    "df[\"transformed_text\"] = df[\"transformed_text\"].apply(lambda x: remove_non_alphanumeric(x))"
   ]
  },
  {
   "cell_type": "markdown",
   "id": "f7052207-01d8-4e5e-93f5-815b8da5d87f",
   "metadata": {},
   "source": [
    "### Remove stopwords and punctuation marks"
   ]
  },
  {
   "cell_type": "code",
   "execution_count": 48,
   "id": "87c678b7-8dc4-4fc5-b3fb-3480a28869fd",
   "metadata": {},
   "outputs": [],
   "source": [
    "\n",
    "def remove_stopword_punctuations(text_list):\n",
    "    clear_text_list = []\n",
    "    for word in text_list:\n",
    "        if word not in stopwords.words('english') and word not in string.punctuation:\n",
    "            clear_text_list.append(word)\n",
    "    return clear_text_list\n",
    "\n",
    "df[\"transformed_text\"] = df[\"transformed_text\"].apply(remove_stopword_punctuations)\n"
   ]
  },
  {
   "cell_type": "markdown",
   "id": "bd5a075e-1ec1-4ad2-be8c-dd0ef24d76cc",
   "metadata": {},
   "source": [
    "### Remove similar words"
   ]
  },
  {
   "cell_type": "code",
   "execution_count": 47,
   "id": "ead64a8b-6892-4a4b-a904-857a6009c12b",
   "metadata": {},
   "outputs": [],
   "source": [
    "\n",
    "def remove_similar_words(text_list):\n",
    "    ps = PorterStemmer()\n",
    "    clear_text_list = []\n",
    "    for word in text_list:\n",
    "        clear_text_list.append(ps.stem(word))\n",
    "    return ' '.join(clear_text_list)\n"
   ]
  },
  {
   "cell_type": "code",
   "execution_count": 49,
   "id": "65af0b26-76a0-47fc-b93f-a2d477fe4165",
   "metadata": {},
   "outputs": [],
   "source": [
    "df[\"transformed_text\"] = df[\"transformed_text\"].apply(remove_similar_words)"
   ]
  },
  {
   "cell_type": "code",
   "execution_count": 50,
   "id": "15b826f2-7f11-4cec-8b21-6c58eca5aac4",
   "metadata": {},
   "outputs": [
    {
     "data": {
      "text/html": [
       "<div>\n",
       "<style scoped>\n",
       "    .dataframe tbody tr th:only-of-type {\n",
       "        vertical-align: middle;\n",
       "    }\n",
       "\n",
       "    .dataframe tbody tr th {\n",
       "        vertical-align: top;\n",
       "    }\n",
       "\n",
       "    .dataframe thead th {\n",
       "        text-align: right;\n",
       "    }\n",
       "</style>\n",
       "<table border=\"1\" class=\"dataframe\">\n",
       "  <thead>\n",
       "    <tr style=\"text-align: right;\">\n",
       "      <th></th>\n",
       "      <th>target</th>\n",
       "      <th>text</th>\n",
       "      <th>num_characters</th>\n",
       "      <th>num_words</th>\n",
       "      <th>num_sentences</th>\n",
       "      <th>transformed_text</th>\n",
       "    </tr>\n",
       "  </thead>\n",
       "  <tbody>\n",
       "    <tr>\n",
       "      <th>0</th>\n",
       "      <td>0</td>\n",
       "      <td>Go until jurong point, crazy.. Available only ...</td>\n",
       "      <td>111</td>\n",
       "      <td>24</td>\n",
       "      <td>2</td>\n",
       "      <td>go jurong point crazi avail bugi n great world...</td>\n",
       "    </tr>\n",
       "    <tr>\n",
       "      <th>1</th>\n",
       "      <td>0</td>\n",
       "      <td>Ok lar... Joking wif u oni...</td>\n",
       "      <td>29</td>\n",
       "      <td>8</td>\n",
       "      <td>2</td>\n",
       "      <td>ok lar joke wif u oni</td>\n",
       "    </tr>\n",
       "    <tr>\n",
       "      <th>2</th>\n",
       "      <td>1</td>\n",
       "      <td>Free entry in 2 a wkly comp to win FA Cup fina...</td>\n",
       "      <td>155</td>\n",
       "      <td>37</td>\n",
       "      <td>2</td>\n",
       "      <td>free entri 2 wkli comp win fa cup final tkt 21...</td>\n",
       "    </tr>\n",
       "    <tr>\n",
       "      <th>3</th>\n",
       "      <td>0</td>\n",
       "      <td>U dun say so early hor... U c already then say...</td>\n",
       "      <td>49</td>\n",
       "      <td>13</td>\n",
       "      <td>1</td>\n",
       "      <td>u dun say earli hor u c alreadi say</td>\n",
       "    </tr>\n",
       "    <tr>\n",
       "      <th>4</th>\n",
       "      <td>0</td>\n",
       "      <td>Nah I don't think he goes to usf, he lives aro...</td>\n",
       "      <td>61</td>\n",
       "      <td>15</td>\n",
       "      <td>1</td>\n",
       "      <td>nah i think goe usf live around though</td>\n",
       "    </tr>\n",
       "  </tbody>\n",
       "</table>\n",
       "</div>"
      ],
      "text/plain": [
       "   target                                               text  num_characters  \\\n",
       "0       0  Go until jurong point, crazy.. Available only ...             111   \n",
       "1       0                      Ok lar... Joking wif u oni...              29   \n",
       "2       1  Free entry in 2 a wkly comp to win FA Cup fina...             155   \n",
       "3       0  U dun say so early hor... U c already then say...              49   \n",
       "4       0  Nah I don't think he goes to usf, he lives aro...              61   \n",
       "\n",
       "   num_words  num_sentences                                   transformed_text  \n",
       "0         24              2  go jurong point crazi avail bugi n great world...  \n",
       "1          8              2                              ok lar joke wif u oni  \n",
       "2         37              2  free entri 2 wkli comp win fa cup final tkt 21...  \n",
       "3         13              1                u dun say earli hor u c alreadi say  \n",
       "4         15              1             nah i think goe usf live around though  "
      ]
     },
     "execution_count": 50,
     "metadata": {},
     "output_type": "execute_result"
    }
   ],
   "source": [
    "df.head()"
   ]
  },
  {
   "cell_type": "markdown",
   "id": "b46eb3c0-71c2-4f73-9c44-bc635ee45cd7",
   "metadata": {},
   "source": [
    "### Thirty most frequent words in spam messages"
   ]
  },
  {
   "cell_type": "code",
   "execution_count": 51,
   "id": "bc2f1c99-2942-4bd1-880c-66152faa1e79",
   "metadata": {},
   "outputs": [
    {
     "data": {
      "image/png": "[encoded data removed]",
      "text/plain": [
       "<Figure size 640x480 with 1 Axes>"
      ]
     },
     "metadata": {},
     "output_type": "display_data"
    }
   ],
   "source": [
    "\n",
    "temp_list = []\n",
    "spam_text_list = df[df[\"target\"] == 1][\"transformed_text\"].to_list()\n",
    "\n",
    "# Collect all words from spam messages\n",
    "for text in spam_text_list:\n",
    "    temp_list.extend(text.split(\" \"))\n",
    "\n",
    "# Convert to Series for counting\n",
    "spam_word_series = pd.Series(temp_list)\n",
    "\n",
    "# Plot top 30 most frequent words\n",
    "spam_word_series.value_counts()[:30].plot(\n",
    "    kind=\"bar\",\n",
    "    xlabel=\"words\",\n",
    "    ylabel=\"frequency\",\n",
    "    title=\"Thirty most frequent words in spam messages\")\n",
    "plt.show()"
   ]
  },
  {
   "cell_type": "markdown",
   "id": "782b51a7-be8f-4bf1-b4cf-65306b14419d",
   "metadata": {},
   "source": [
    "### Thirty most frequent words in spam messages"
   ]
  },
  {
   "cell_type": "code",
   "execution_count": 52,
   "id": "19744cf5-5f6e-49fd-868f-6e41f3691295",
   "metadata": {},
   "outputs": [
    {
     "data": {
      "image/png": "[encoded data removed]",
      "text/plain": [
       "<Figure size 640x480 with 1 Axes>"
      ]
     },
     "metadata": {},
     "output_type": "display_data"
    }
   ],
   "source": [
    "temp_list = []\n",
    "# Get ham messages (assuming target=0 is ham)\n",
    "ham_text_list = df[df[\"target\"] == 0][\"transformed_text\"].to_list()\n",
    "\n",
    "# Collect all words from ham messages\n",
    "for text in ham_text_list:\n",
    "    temp_list.extend(text.split(\" \"))\n",
    "\n",
    "# Convert to Series for counting\n",
    "ham_word_series = pd.Series(temp_list)\n",
    "\n",
    "# Plot top 30 most frequent words\n",
    "ham_word_series.value_counts()[:30].plot(\n",
    "    kind=\"bar\",\n",
    "    xlabel=\"words\",\n",
    "    ylabel=\"frequency\",\n",
    "    title=\"Thirty most frequent words in ham messages\"\n",
    ")\n",
    "\n",
    "plt.show()\n"
   ]
  },
  {
   "cell_type": "markdown",
   "id": "d83def98-afcf-4d29-9c5b-d6eacdaf9fe8",
   "metadata": {},
   "source": [
    "### Model Building"
   ]
  },
  {
   "cell_type": "code",
   "execution_count": 53,
   "id": "b9e848d8-d7e8-48b6-b551-66495ad2ceb2",
   "metadata": {},
   "outputs": [],
   "source": [
    "\n",
    "# Create TF-IDF vectorizer\n",
    "tfidf = TfidfVectorizer(max_features=3000)\n",
    "\n",
    "# Convert text into TF-IDF features\n",
    "X = tfidf.fit_transform(df['transformed_text']).toarray()\n",
    "\n",
    "# Target values\n",
    "y = df[\"target\"].values\n",
    "\n",
    "# Split into training and testing sets\n",
    "x_train, x_test, y_train, y_test = train_test_split(\n",
    "    X, y, test_size=0.2, random_state=2\n",
    ")\n"
   ]
  },
  {
   "cell_type": "code",
   "execution_count": 54,
   "id": "3ef25e7a-06f9-4192-a939-ce129cfb4e62",
   "metadata": {},
   "outputs": [
    {
     "name": "stdout",
     "output_type": "stream",
     "text": [
      "Accuracy score: 0.9739\n",
      "Precision score: 1.0000\n"
     ]
    },
    {
     "data": {
      "image/png": "[encoded data removed]",
      "text/plain": [
       "<Figure size 640x480 with 2 Axes>"
      ]
     },
     "metadata": {},
     "output_type": "display_data"
    }
   ],
   "source": [
    "\n",
    "# Model building\n",
    "mnb = MultinomialNB()\n",
    "mnb.fit(x_train, y_train)\n",
    "\n",
    "# Predictions\n",
    "y_pred = mnb.predict(x_test)\n",
    "\n",
    "# Evaluation metrics\n",
    "accuracy = accuracy_score(y_test, y_pred)\n",
    "precision = precision_score(y_test, y_pred)\n",
    "\n",
    "print(\"Accuracy score: {:.4f}\".format(accuracy))\n",
    "print(\"Precision score: {:.4f}\".format(precision))\n",
    "\n",
    "# Confusion matrix\n",
    "cm = confusion_matrix(y_test, y_pred)\n",
    "cm_disp = ConfusionMatrixDisplay(confusion_matrix=cm, display_labels=mnb.classes_)\n",
    "cm_disp.plot()\n",
    "plt.title(\"Confusion Matrix\")\n",
    "plt.show()\n"
   ]
  },
  {
   "cell_type": "code",
   "execution_count": null,
   "id": "accd1878-766d-4e37-b0a0-3de11f92e50a",
   "metadata": {},
   "outputs": [],
   "source": []
  }
 ],
 "metadata": {
  "kernelspec": {
   "display_name": "anaconda-2024.02-py310",
   "language": "python",
   "name": "conda-env-anaconda-2024.02-py310-py"
  },
  "language_info": {
   "codemirror_mode": {
    "name": "ipython",
    "version": 3
   },
   "file_extension": ".py",
   "mimetype": "text/x-python",
   "name": "python",
   "nbconvert_exporter": "python",
   "pygments_lexer": "ipython3",
   "version": "3.10.14"
  }
 },
 "nbformat": 4,
 "nbformat_minor": 5
}
